{
 "cells": [
  {
   "cell_type": "code",
   "execution_count": 1,
   "metadata": {},
   "outputs": [
    {
     "name": "stdout",
     "output_type": "stream",
     "text": [
      "['Michael Jackson', 10.1, 1982]\n"
     ]
    }
   ],
   "source": [
    "# Homework 3-2 Joo Jaekil 2022271314\n",
    "# list 는 [ ]안에 내용을 집어넣는 것\n",
    "L = [\"Michael Jackson\", 10.1, 1982]\n",
    "print(L)"
   ]
  },
  {
   "cell_type": "code",
   "execution_count": 2,
   "metadata": {},
   "outputs": [
    {
     "data": {
      "text/plain": [
       "int"
      ]
     },
     "execution_count": 2,
     "metadata": {},
     "output_type": "execute_result"
    }
   ],
   "source": [
    "type(L[2])"
   ]
  },
  {
   "cell_type": "code",
   "execution_count": 3,
   "metadata": {},
   "outputs": [
    {
     "data": {
      "text/plain": [
       "str"
      ]
     },
     "execution_count": 3,
     "metadata": {},
     "output_type": "execute_result"
    }
   ],
   "source": [
    "type(L[0])"
   ]
  },
  {
   "cell_type": "code",
   "execution_count": 4,
   "metadata": {},
   "outputs": [
    {
     "name": "stdout",
     "output_type": "stream",
     "text": [
      "the same element using negative and positive indexing:\n",
      " Postive: Michael Jackson \n",
      " Negative: Michael Jackson\n",
      "the same element using negative and positive indexing:\n",
      " Postive: 10.1 \n",
      " Negative: 10.1\n",
      "the same element using negative and positive indexing:\n",
      " Postive: 1982 \n",
      " Negative: 1982\n"
     ]
    }
   ],
   "source": [
    "print('the same element using negative and positive indexing:\\n Postive:',L[0],\n",
    "'\\n Negative:' , L[-3]  )\n",
    "print('the same element using negative and positive indexing:\\n Postive:',L[1],\n",
    "'\\n Negative:' , L[-2]  )\n",
    "print('the same element using negative and positive indexing:\\n Postive:',L[2],\n",
    "'\\n Negative:' , L[-1]  )"
   ]
  },
  {
   "cell_type": "code",
   "execution_count": 8,
   "metadata": {},
   "outputs": [
    {
     "name": "stdout",
     "output_type": "stream",
     "text": [
      "before changed L1 = ['Michael Jackson', 10.1, 1982, [1, 2], ('A', 1)]\n",
      "after change L1[0] with Janet Jackson Janet\n"
     ]
    }
   ],
   "source": [
    "L1 = [\"Michael Jackson\", 10.1, 1982, [1, 2], (\"A\", 1)]\n",
    "print(\"before changed L1 =\", L1)\n",
    "print('after change L1[0] with Janet Jackson', L1[0].replace(\"Michael Jackson\", 'Janet'))"
   ]
  },
  {
   "cell_type": "code",
   "execution_count": 9,
   "metadata": {},
   "outputs": [
    {
     "ename": "TypeError",
     "evalue": "'tuple' object does not support item assignment",
     "output_type": "error",
     "traceback": [
      "\u001b[1;31m---------------------------------------------------------------------------\u001b[0m",
      "\u001b[1;31mTypeError\u001b[0m                                 Traceback (most recent call last)",
      "\u001b[1;32mc:\\Users\\frepp\\Python_Place\\MOT_Python\\Homework_3-2_Joo-Jaekil.ipynb 셀 6\u001b[0m in \u001b[0;36m3\n\u001b[0;32m      <a href='vscode-notebook-cell:/c%3A/Users/frepp/Python_Place/MOT_Python/Homework_3-2_Joo-Jaekil.ipynb#X13sZmlsZQ%3D%3D?line=0'>1</a>\u001b[0m Tuple1\u001b[39m=\u001b[39m(\u001b[39m\"\u001b[39m\u001b[39mMichael Jackson\u001b[39m\u001b[39m\"\u001b[39m, \u001b[39m10.1\u001b[39m, \u001b[39m1982\u001b[39m)\n\u001b[0;32m      <a href='vscode-notebook-cell:/c%3A/Users/frepp/Python_Place/MOT_Python/Homework_3-2_Joo-Jaekil.ipynb#X13sZmlsZQ%3D%3D?line=1'>2</a>\u001b[0m Tuple1\n\u001b[1;32m----> <a href='vscode-notebook-cell:/c%3A/Users/frepp/Python_Place/MOT_Python/Homework_3-2_Joo-Jaekil.ipynb#X13sZmlsZQ%3D%3D?line=2'>3</a>\u001b[0m Tuple1[\u001b[39m0\u001b[39;49m]\u001b[39m=\u001b[39m\u001b[39m\"\u001b[39m\u001b[39mJanet\u001b[39m\u001b[39m\"\u001b[39m\n",
      "\u001b[1;31mTypeError\u001b[0m: 'tuple' object does not support item assignment"
     ]
    }
   ],
   "source": [
    "Tuple1=(\"Michael Jackson\", 10.1, 1982)\n",
    "Tuple1\n",
    "Tuple1[0]=\"Janet\""
   ]
  },
  {
   "cell_type": "code",
   "execution_count": 23,
   "metadata": {},
   "outputs": [
    {
     "name": "stdout",
     "output_type": "stream",
     "text": [
      "['Michael Jackson', 10.1, 1982, 'MJ', 1, 'rabbit', 103, ['king', 14.5]]\n",
      "[1982, 'MJ']\n",
      "14.5\n"
     ]
    }
   ],
   "source": [
    "# tuple은 문장을 바꿔치기 안되지만 List 는 바꿔치기 가능\n",
    "L = [\"Michael Jackson\", 10.1,1982,\"MJ\",1]\n",
    "L\n",
    "L[2:4]\n",
    "L.extend([\"rabbit\", 103, [\"king\", 14.5]]) # extend 는 ()안에 [] 를 사용한다. 즉 ([]) 형태로 씀 !\n",
    "print(L)\n",
    "print(L[2:4])\n",
    "print(L[7][1])\n"
   ]
  },
  {
   "cell_type": "code",
   "execution_count": 25,
   "metadata": {},
   "outputs": [
    {
     "name": "stdout",
     "output_type": "stream",
     "text": [
      "Before change: ['Michael Jackson', 10.2, 'pop', 10, ['a', 'b']]\n",
      "After change: [10.2, 'pop', 10, ['a', 'b']]\n"
     ]
    }
   ],
   "source": [
    "A = ['Michael Jackson', 10.2, 'pop', 10, ['a', 'b']]\n",
    "print('Before change:', A)\n",
    "del(A[0])\n",
    "print('After change:', A)"
   ]
  },
  {
   "cell_type": "code",
   "execution_count": 27,
   "metadata": {},
   "outputs": [
    {
     "name": "stdout",
     "output_type": "stream",
     "text": [
      "['hard', 'rock']\n"
     ]
    },
    {
     "data": {
      "text/plain": [
       "'rock'"
      ]
     },
     "execution_count": 27,
     "metadata": {},
     "output_type": "execute_result"
    }
   ],
   "source": [
    "# split 을 쓰면 스페이스로 분간하여 분리\n",
    "what='hard rock'.split()\n",
    "print(what)\n",
    "type(what)\n",
    "what[1]"
   ]
  },
  {
   "cell_type": "code",
   "execution_count": 30,
   "metadata": {},
   "outputs": [
    {
     "name": "stdout",
     "output_type": "stream",
     "text": [
      "['A', 'B', 'C', 'D']\n"
     ]
    },
    {
     "data": {
      "text/plain": [
       "'A'"
      ]
     },
     "execution_count": 30,
     "metadata": {},
     "output_type": "execute_result"
    }
   ],
   "source": [
    "# 문장에 split()을 쓰면 스페이스로 분리, split(\",\") 라고 쓰면 ' 로 분리\n",
    "Split_string_comma='A,B,C,D'.split(',')\n",
    "print(Split_string_comma)\n",
    "type(Split_string_comma)\n",
    "Split_string_comma[0]"
   ]
  },
  {
   "cell_type": "code",
   "execution_count": 31,
   "metadata": {},
   "outputs": [
    {
     "data": {
      "text/plain": [
       "['hard rock', 10, 1.2]"
      ]
     },
     "execution_count": 31,
     "metadata": {},
     "output_type": "execute_result"
    }
   ],
   "source": [
    "A = [\"hard rock\", 10, 1.2]\n",
    "A"
   ]
  },
  {
   "cell_type": "code",
   "execution_count": 33,
   "metadata": {},
   "outputs": [
    {
     "name": "stdout",
     "output_type": "stream",
     "text": [
      "['rabbit', 10, 1.2]\n"
     ]
    }
   ],
   "source": [
    "A[0]=\"rabbit\"\n",
    "print(A)"
   ]
  },
  {
   "cell_type": "code",
   "execution_count": 28,
   "metadata": {},
   "outputs": [
    {
     "data": {
      "text/plain": [
       "list"
      ]
     },
     "execution_count": 28,
     "metadata": {},
     "output_type": "execute_result"
    }
   ],
   "source": [
    "type(what)"
   ]
  },
  {
   "cell_type": "code",
   "execution_count": 35,
   "metadata": {},
   "outputs": [
    {
     "name": "stdout",
     "output_type": "stream",
     "text": [
      "['rabbit', 10, 1.2]\n",
      "['rabbit', 10, 1.2]\n"
     ]
    }
   ],
   "source": [
    "print (A)\n",
    "B=A\n",
    "print (B)"
   ]
  },
  {
   "cell_type": "code",
   "execution_count": 36,
   "metadata": {},
   "outputs": [
    {
     "name": "stdout",
     "output_type": "stream",
     "text": [
      "B[0]: rabbit\n",
      "B[0]: banana\n"
     ]
    }
   ],
   "source": [
    "print('B[0]:', B[0])\n",
    "A[0] = \"banana\"\n",
    "print('B[0]:', B[0])"
   ]
  },
  {
   "cell_type": "code",
   "execution_count": 37,
   "metadata": {},
   "outputs": [
    {
     "name": "stdout",
     "output_type": "stream",
     "text": [
      "['hard rock', 10, 1.2]\n",
      "['hard rock', 10, 1.2]\n",
      "['R&B', 10, 1.2]\n",
      "['hard rock', 10, 1.2]\n"
     ]
    }
   ],
   "source": [
    "A = [\"hard rock\", 10, 1.2]\n",
    "B = A[:] #A[:]\n",
    "print(A)\n",
    "print(B)\n",
    "A[0] ='R&B'\n",
    "print(A)\n",
    "print(B)"
   ]
  },
  {
   "cell_type": "code",
   "execution_count": 1,
   "metadata": {},
   "outputs": [
    {
     "name": "stdout",
     "output_type": "stream",
     "text": [
      "create a list :  [1, 'hello', [1, 2, 3], True]\n"
     ]
    }
   ],
   "source": [
    "# Homework 3-2 Joo Jaekil 2022271314\n",
    "#1) Create a list a_list, with the following elements 1, hello, [1,2,3]and True\n",
    "list = [1, 'hello',[1,2,3], True]\n",
    "print(\"create a list : \", list)"
   ]
  },
  {
   "cell_type": "code",
   "execution_count": 9,
   "metadata": {},
   "outputs": [
    {
     "name": "stdout",
     "output_type": "stream",
     "text": [
      "index #1 =  hello\n"
     ]
    }
   ],
   "source": [
    "#2) Find the value stored at index 1 of a_list\n",
    "print('index #1 = ', list[1])"
   ]
  },
  {
   "cell_type": "code",
   "execution_count": 6,
   "metadata": {},
   "outputs": [
    {
     "name": "stdout",
     "output_type": "stream",
     "text": [
      "index 1~3= ['hello', [1, 2, 3], True]\n"
     ]
    }
   ],
   "source": [
    "#3) Retrieve the elements stored at index 1, 2 and 3 of a_list\n",
    "print('index 1~3=', (list[1:]))"
   ]
  },
  {
   "cell_type": "code",
   "execution_count": 38,
   "metadata": {},
   "outputs": [
    {
     "data": {
      "text/plain": [
       "[1, 'a', 2, 1, 'd']"
      ]
     },
     "execution_count": 38,
     "metadata": {},
     "output_type": "execute_result"
    }
   ],
   "source": [
    "#4) Concatenate the following lists A = [1, 'a'] and B = [2, 1, 'd']\n",
    "list_A = [1,'a']\n",
    "list_B = [2,1,'d']\n",
    "list_C=list_A+list_B\n",
    "list_C"
   ]
  },
  {
   "cell_type": "code",
   "execution_count": null,
   "metadata": {},
   "outputs": [],
   "source": []
  }
 ],
 "metadata": {
  "kernelspec": {
   "display_name": "Python 3",
   "language": "python",
   "name": "python3"
  },
  "language_info": {
   "codemirror_mode": {
    "name": "ipython",
    "version": 3
   },
   "file_extension": ".py",
   "mimetype": "text/x-python",
   "name": "python",
   "nbconvert_exporter": "python",
   "pygments_lexer": "ipython3",
   "version": "3.9.13"
  },
  "orig_nbformat": 4,
  "vscode": {
   "interpreter": {
    "hash": "c06e495c31ef3e3bbca5e8ede419b4785d5969cc0918a331bd41dd4befedf2e9"
   }
  }
 },
 "nbformat": 4,
 "nbformat_minor": 2
}
