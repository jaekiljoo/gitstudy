{
 "cells": [
  {
   "cell_type": "code",
   "execution_count": 1,
   "metadata": {},
   "outputs": [
    {
     "name": "stdout",
     "output_type": "stream",
     "text": [
      "create a list :  [1, 'hello', [1, 2, 3], True]\n"
     ]
    }
   ],
   "source": [
    "# Homework 3-2 Joo Jaekil 2022271314\n",
    "#1) Create a list a_list, with the following elements 1, hello, [1,2,3]and True\n",
    "list = [1, 'hello',[1,2,3], True]\n",
    "print(\"create a list : \", list)"
   ]
  },
  {
   "cell_type": "code",
   "execution_count": 9,
   "metadata": {},
   "outputs": [
    {
     "name": "stdout",
     "output_type": "stream",
     "text": [
      "index #1 =  hello\n"
     ]
    }
   ],
   "source": [
    "#2) Find the value stored at index 1 of a_list\n",
    "print('index #1 = ', list[1])"
   ]
  },
  {
   "cell_type": "code",
   "execution_count": 6,
   "metadata": {},
   "outputs": [
    {
     "name": "stdout",
     "output_type": "stream",
     "text": [
      "index 1~3= ['hello', [1, 2, 3], True]\n"
     ]
    }
   ],
   "source": [
    "#3) Retrieve the elements stored at index 1, 2 and 3 of a_list\n",
    "print('index 1~3=', (list[1:]))"
   ]
  },
  {
   "cell_type": "code",
   "execution_count": 8,
   "metadata": {},
   "outputs": [
    {
     "data": {
      "text/plain": [
       "[1, '1', 2, 1, 'd']"
      ]
     },
     "execution_count": 8,
     "metadata": {},
     "output_type": "execute_result"
    }
   ],
   "source": [
    "#4) Concatenate the following lists A = [1, 'a'] and B = [2, 1, 'd']\n",
    "list_A = [1,'1']\n",
    "list_B = [2,1,'d']\n",
    "list_C=list_A+list_B\n",
    "list_C"
   ]
  },
  {
   "cell_type": "code",
   "execution_count": null,
   "metadata": {},
   "outputs": [],
   "source": []
  }
 ],
 "metadata": {
  "kernelspec": {
   "display_name": "Python 3",
   "language": "python",
   "name": "python3"
  },
  "language_info": {
   "codemirror_mode": {
    "name": "ipython",
    "version": 3
   },
   "file_extension": ".py",
   "mimetype": "text/x-python",
   "name": "python",
   "nbconvert_exporter": "python",
   "pygments_lexer": "ipython3",
   "version": "3.9.13"
  },
  "orig_nbformat": 4
 },
 "nbformat": 4,
 "nbformat_minor": 2
}
