{
 "cells": [
  {
   "cell_type": "code",
   "execution_count": 1,
   "metadata": {},
   "outputs": [
    {
     "name": "stdout",
     "output_type": "stream",
     "text": [
      "hello , World !! \n",
      "my name is jaekil Joo\n"
     ]
    }
   ],
   "source": [
    "# 2022271314 주재길 박사과정 숙제 #1 Exercise 1 (Types)\n",
    "# Excercise #1\n",
    "print (\"hello , World !! \")\n",
    "print ( \"my name is jaekil Joo\")"
   ]
  },
  {
   "cell_type": "code",
   "execution_count": 2,
   "metadata": {},
   "outputs": [
    {
     "name": "stdout",
     "output_type": "stream",
     "text": [
      "type= <class 'float'>\n"
     ]
    }
   ],
   "source": [
    "# Exercise #2\n",
    "# In the code cell below, use the type() function to check the object type of 12.0\n",
    "print('type=', type(12.0))"
   ]
  },
  {
   "cell_type": "code",
   "execution_count": 4,
   "metadata": {},
   "outputs": [
    {
     "name": "stdout",
     "output_type": "stream",
     "text": [
      "6/2 = 3.0\n",
      "6//2 =  3\n"
     ]
    }
   ],
   "source": [
    "# Exercise #3\n",
    "# What is the data type of the result of: 6 / 2 ?\n",
    "print(\"6/2 =\", 6/2)\n",
    "# What is the data type of the result of: 6 // 2 ?\n",
    "print('6//2 = ',6//2)\n"
   ]
  },
  {
   "cell_type": "code",
   "execution_count": 53,
   "metadata": {},
   "outputs": [
    {
     "name": "stdout",
     "output_type": "stream",
     "text": [
      "hours: 2\n"
     ]
    }
   ],
   "source": [
    "#Exerciese 4\n",
    "# Let's write an expression that calculates how many hours there are in 160 minutes:\n",
    "print(\"hours:\", 160//60)"
   ]
  },
  {
   "cell_type": "code",
   "execution_count": 5,
   "metadata": {},
   "outputs": [
    {
     "name": "stdout",
     "output_type": "stream",
     "text": [
      "x= 7\n",
      "x= 10\n"
     ]
    }
   ],
   "source": [
    "#Exercise 5\n",
    "#  What is the value of x where x = 3 + 2 * 2 ?\n",
    "#  What is the value of x where x = (3 + 2) * 2 ?\n",
    "print (\"x=\", 3+2*2)\n",
    "print (\"x=\", (3+2)*2)"
   ]
  },
  {
   "cell_type": "code",
   "execution_count": null,
   "metadata": {},
   "outputs": [],
   "source": []
  }
 ],
 "metadata": {
  "kernelspec": {
   "display_name": "Python 3",
   "language": "python",
   "name": "python3"
  },
  "language_info": {
   "codemirror_mode": {
    "name": "ipython",
    "version": 3
   },
   "file_extension": ".py",
   "mimetype": "text/x-python",
   "name": "python",
   "nbconvert_exporter": "python",
   "pygments_lexer": "ipython3",
   "version": "3.9.13"
  },
  "orig_nbformat": 4
 },
 "nbformat": 4,
 "nbformat_minor": 2
}
