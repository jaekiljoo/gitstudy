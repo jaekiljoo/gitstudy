{
 "cells": [
  {
   "cell_type": "code",
   "execution_count": 77,
   "metadata": {},
   "outputs": [
    {
     "name": "stdout",
     "output_type": "stream",
     "text": [
      "<_io.TextIOWrapper name='C:/Users/frepp/Python_Place/test2.txt' mode='w' encoding='cp949'>\n"
     ]
    }
   ],
   "source": [
    "# Homework 7-2 Jaekil Joo (2022271314)\n",
    "\n",
    "with open (\"C:/Users/frepp/Python_Place/test2.txt\", 'w') as writefile:\n",
    "    writefile.write('This is Line A\\n')\n",
    "print(writefile) # it's not good idea !!\n"
   ]
  },
  {
   "cell_type": "code",
   "execution_count": 78,
   "metadata": {},
   "outputs": [
    {
     "name": "stdout",
     "output_type": "stream",
     "text": [
      "This is Line A\n",
      "\n"
     ]
    }
   ],
   "source": [
    "with open (\"C:/Users/frepp/Python_Place/test2.txt\", 'r') as testwritefile:\n",
    "# open 하기 위해서는 타겟 위치에 이미 파일이 있어야 하지만, 쓸때는 위치 및 파일이름을 마음대로 정하면 그렇게 써짐 하하 !\n",
    "    print(testwritefile.read()) # 책을 읽을 때 처럼, 먼전 책을 열고, 그리고 읽거나, 쓰면 됨 !"
   ]
  },
  {
   "cell_type": "code",
   "execution_count": 72,
   "metadata": {},
   "outputs": [],
   "source": [
    "with open (\"C:/Users/frepp/Python_Place/test10.txt\", 'w') as writefile:\n",
    "    writefile.write('This si line A\\n')\n",
    "    writefile.write('This is line B\\n')\n",
    "    writefile.write ('This is line 10')"
   ]
  },
  {
   "cell_type": "code",
   "execution_count": 73,
   "metadata": {},
   "outputs": [
    {
     "name": "stdout",
     "output_type": "stream",
     "text": [
      "This si line A\n",
      "This is line B\n",
      "This is line 10\n"
     ]
    }
   ],
   "source": [
    "with open (\"C:/Users/frepp/Python_Place/test10.txt\", 'r') as testwritefile10:\n",
    "    print(testwritefile10.read())"
   ]
  },
  {
   "cell_type": "code",
   "execution_count": 79,
   "metadata": {},
   "outputs": [
    {
     "name": "stdout",
     "output_type": "stream",
     "text": [
      "This is Line A\n",
      "\n"
     ]
    }
   ],
   "source": [
    "with open (\"C:/Users/frepp/Python_Place/test2.txt\", 'r') as testwritefile:\n",
    "    print(testwritefile.read())"
   ]
  },
  {
   "cell_type": "code",
   "execution_count": 80,
   "metadata": {},
   "outputs": [],
   "source": [
    "with open (\"C:/Users/frepp/Python_Place/test2.txt\", 'a') as testwritefile:\n",
    "    testwritefile.write(\"This is Line B\\n This is Line C\")"
   ]
  },
  {
   "cell_type": "code",
   "execution_count": 81,
   "metadata": {},
   "outputs": [
    {
     "name": "stdout",
     "output_type": "stream",
     "text": [
      "This is Line A\n",
      "This is Line B\n",
      " This is Line C\n"
     ]
    }
   ],
   "source": [
    "with open (\"C:/Users/frepp/Python_Place/test2.txt\", 'r') as testwritefile:\n",
    "    print(testwritefile.read())"
   ]
  },
  {
   "cell_type": "code",
   "execution_count": 40,
   "metadata": {},
   "outputs": [
    {
     "data": {
      "text/plain": [
       "['this is line A\\n', 'this is Line B \\n', 'this is line C\\n']"
      ]
     },
     "execution_count": 40,
     "metadata": {},
     "output_type": "execute_result"
    }
   ],
   "source": [
    "lines = ['this is line A\\n', 'this is Line B \\n', 'this is line C\\n']\n",
    "lines"
   ]
  },
  {
   "cell_type": "code",
   "execution_count": 41,
   "metadata": {},
   "outputs": [
    {
     "name": "stdout",
     "output_type": "stream",
     "text": [
      "['this is line A\\n', 'this is Line B \\n', 'this is line C\\n']\n"
     ]
    }
   ],
   "source": [
    "print(lines)"
   ]
  },
  {
   "cell_type": "code",
   "execution_count": 82,
   "metadata": {},
   "outputs": [
    {
     "name": "stdout",
     "output_type": "stream",
     "text": [
      "this is line A\n",
      "\n",
      "this is Line B \n",
      "\n",
      "this is line C\n",
      "\n"
     ]
    }
   ],
   "source": [
    "with open (\"C:/Users/frepp/Python_Place/test11.txt\", 'w') as writefile:\n",
    "    for line in lines:\n",
    "        print(line)\n",
    "        writefile.write(line)\n",
    "\n",
    "# 어떻게 이렇게 되는지 잘 모르겠네 ㅠㅠ.  되긴 되는데 어떻게 되는 거지 ??\n",
    "# for 문을 돌리고 print (line)  하면 리스트의 첫번째 내용이 프린트 되는 것 같고\n",
    "# 그 다음에 writefile.write(line) --> 이게 무슨 역할을 하지 ?\n",
    "# 아하 test.txt file을 불러서 'writefile' 변수에 쓸건데, lines에 있는 내용을 하나씩 꺼내서 writefile에 쓰는 거구나\n",
    "# 숫자가 1, 2, 3으로 증가되지 않아도, 알아서 순서를 알고 쓰는 가 보네... 헐 신기 !!"
   ]
  },
  {
   "cell_type": "code",
   "execution_count": 83,
   "metadata": {},
   "outputs": [
    {
     "name": "stdout",
     "output_type": "stream",
     "text": [
      "this is line A\n",
      "this is Line B \n",
      "this is line C\n",
      "\n"
     ]
    }
   ],
   "source": [
    "with open (\"C:/Users/frepp/Python_Place/test11.txt\", 'r') as testwritefile:\n",
    "    print(testwritefile. read())"
   ]
  },
  {
   "cell_type": "code",
   "execution_count": 86,
   "metadata": {},
   "outputs": [],
   "source": [
    "with open(\"C:/Users/frepp/Python_Place/test11.txt\", 'a') as testwritefile:\n",
    "    testwritefile.write('this is Line D\\n')"
   ]
  },
  {
   "cell_type": "code",
   "execution_count": 87,
   "metadata": {},
   "outputs": [
    {
     "name": "stdout",
     "output_type": "stream",
     "text": [
      "this is line A\n",
      "this is Line B \n",
      "this is line C\n",
      "this is Line D\n",
      "\n"
     ]
    }
   ],
   "source": [
    "with open(\"C:/Users/frepp/Python_Place/test11.txt\", 'r') as testwritefile:\n",
    "    print(testwritefile.read())"
   ]
  },
  {
   "cell_type": "code",
   "execution_count": 88,
   "metadata": {},
   "outputs": [],
   "source": [
    "with open (\"C:/Users/frepp/Python_Place/test11.txt\", 'a') as testwritefile:\n",
    "    testwritefile.write('this is Line E\\n')"
   ]
  },
  {
   "cell_type": "code",
   "execution_count": 89,
   "metadata": {},
   "outputs": [
    {
     "name": "stdout",
     "output_type": "stream",
     "text": [
      "this is line A\n",
      "this is Line B \n",
      "this is line C\n",
      "this is Line D\n",
      "this is Line E\n",
      "\n"
     ]
    }
   ],
   "source": [
    "with open (\"C:/Users/frepp/Python_Place/test11.txt\", 'r') as testwritefile:\n",
    "    print(testwritefile.read())"
   ]
  },
  {
   "cell_type": "code",
   "execution_count": 90,
   "metadata": {},
   "outputs": [],
   "source": [
    "with open (\"C:/Users/frepp/Python_Place/test11.txt\", 'r') as readfile:\n",
    "    with open(\"C:/Users/frepp/Python_Place/test12.txt\", 'w') as writefile:\n",
    "        for line in readfile:\n",
    "            writefile.write(line)\n",
    "# 파일 내용을 카피 페이스트 하는 것을 for in 반복문을 통해 한 땀씩 움직이는 것 !\n",
    "# 즉 test 11을 test12로 옮길때, test11의 내용을 한줄 씩 write 해서 test12에 세이브 하는 것 "
   ]
  },
  {
   "cell_type": "code",
   "execution_count": 91,
   "metadata": {},
   "outputs": [
    {
     "name": "stdout",
     "output_type": "stream",
     "text": [
      "this is line A\n",
      "this is Line B \n",
      "this is line C\n",
      "this is Line D\n",
      "this is Line E\n",
      "\n"
     ]
    }
   ],
   "source": [
    "with open(\"C:/Users/frepp/Python_Place/test12.txt\", 'r') as testwritefile:\n",
    "    print(testwritefile.read())"
   ]
  },
  {
   "cell_type": "code",
   "execution_count": null,
   "metadata": {},
   "outputs": [],
   "source": []
  }
 ],
 "metadata": {
  "kernelspec": {
   "display_name": "Python 3",
   "language": "python",
   "name": "python3"
  },
  "language_info": {
   "codemirror_mode": {
    "name": "ipython",
    "version": 3
   },
   "file_extension": ".py",
   "mimetype": "text/x-python",
   "name": "python",
   "nbconvert_exporter": "python",
   "pygments_lexer": "ipython3",
   "version": "3.9.13"
  },
  "orig_nbformat": 4
 },
 "nbformat": 4,
 "nbformat_minor": 2
}
