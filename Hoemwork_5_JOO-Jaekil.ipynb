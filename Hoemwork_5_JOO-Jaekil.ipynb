{
 "cells": [
  {
   "cell_type": "code",
   "execution_count": 5,
   "metadata": {},
   "outputs": [
    {
     "name": "stdout",
     "output_type": "stream",
     "text": [
      "range(0, 3)\n"
     ]
    },
    {
     "data": {
      "text/plain": [
       "3"
      ]
     },
     "execution_count": 5,
     "metadata": {},
     "output_type": "execute_result"
    }
   ],
   "source": [
    "# Homework 5 Joo Jaekil 2022271314\n",
    "\n",
    "range(3)\n",
    "list=range(3)\n",
    "print(list)\n",
    "len(range(3))"
   ]
  },
  {
   "cell_type": "code",
   "execution_count": 6,
   "metadata": {},
   "outputs": [
    {
     "name": "stdout",
     "output_type": "stream",
     "text": [
      "1\n"
     ]
    }
   ],
   "source": [
    "print (1)"
   ]
  },
  {
   "cell_type": "code",
   "execution_count": 7,
   "metadata": {},
   "outputs": [
    {
     "name": "stdout",
     "output_type": "stream",
     "text": [
      "3\n",
      "1982\n",
      "1980\n",
      "2973\n",
      "[1982, 1980, 2973]\n"
     ]
    }
   ],
   "source": [
    "dates=[1982, 1980, 2973]\n",
    "N=len(dates)\n",
    "print(N)\n",
    "\n",
    "for i in range(N):\n",
    "    print(dates[i])\n",
    "\n",
    "print(dates)\n",
    "\n"
   ]
  },
  {
   "cell_type": "code",
   "execution_count": 8,
   "metadata": {},
   "outputs": [
    {
     "name": "stdout",
     "output_type": "stream",
     "text": [
      "i is equal to  0\n",
      "i is equal to  1\n",
      "i is equal to  2\n",
      "i is equal to  3\n",
      "i is equal to  4\n",
      "i is equal to  5\n",
      "i is equal to  6\n",
      "i is equal to  7\n"
     ]
    }
   ],
   "source": [
    "for i in range(0,8):\n",
    "    print(\"i is equal to \", i)"
   ]
  },
  {
   "cell_type": "markdown",
   "metadata": {},
   "source": []
  },
  {
   "cell_type": "code",
   "execution_count": 9,
   "metadata": {},
   "outputs": [
    {
     "name": "stdout",
     "output_type": "stream",
     "text": [
      "1982\n",
      "1980\n",
      "2973\n"
     ]
    }
   ],
   "source": [
    "for i in dates:\n",
    "    print (i)"
   ]
  },
  {
   "cell_type": "code",
   "execution_count": 10,
   "metadata": {},
   "outputs": [
    {
     "name": "stdout",
     "output_type": "stream",
     "text": [
      "1982\n",
      "1980\n",
      "2973\n"
     ]
    }
   ],
   "source": [
    "for year in dates:\n",
    "    print(year)"
   ]
  },
  {
   "cell_type": "code",
   "execution_count": 14,
   "metadata": {},
   "outputs": [
    {
     "name": "stdout",
     "output_type": "stream",
     "text": [
      "['red', 'yellow', 'green', 'purple', 'blue']\n",
      "before squares 0 is red\n",
      "after squares 0 is weight\n",
      "before squares 1 is yellow\n",
      "after squares 1 is weight\n",
      "before squares 2 is green\n",
      "after squares 2 is weight\n",
      "before squares 3 is purple\n",
      "after squares 3 is weight\n",
      "before squares 4 is blue\n",
      "after squares 4 is weight\n"
     ]
    },
    {
     "data": {
      "text/plain": [
       "['weight', 'weight', 'weight', 'weight', 'weight']"
      ]
     },
     "execution_count": 14,
     "metadata": {},
     "output_type": "execute_result"
    }
   ],
   "source": [
    "squares = ['red', 'yellow', 'green', 'purple', 'blue']\n",
    "print(squares)\n",
    "for i in range(0,5):\n",
    "    print('before squares', i, 'is', squares[i])\n",
    "    squares[i] = \"weight\"\n",
    "    print('after squares', i, 'is',squares[i])\n",
    "\n",
    "squares"
   ]
  },
  {
   "cell_type": "code",
   "execution_count": 14,
   "metadata": {},
   "outputs": [
    {
     "name": "stdout",
     "output_type": "stream",
     "text": [
      "before squares 0 is red\n",
      "before squares 1 is yellow\n",
      "before squares 2 is green\n",
      "before squares 3 is purple\n",
      "before squares 4 is blue\n",
      "\n",
      "wahat the hack !\n",
      "wahat the hack !wahat the hack !\n",
      "wahat the hack !wahat the hack !wahat the hack !\n",
      "wahat the hack !wahat the hack !wahat the hack !wahat the hack !\n"
     ]
    }
   ],
   "source": [
    "squares =['red', 'yellow', 'green', 'purple', 'blue']\n",
    "for i in range(0,5):\n",
    "    print(\"before squares\", i, 'is', squares[i])\n",
    "for i in range (0,5):\n",
    "    squares[i] = i*\"wahat the hack !\"\n",
    "    print(squares[i])"
   ]
  },
  {
   "cell_type": "code",
   "execution_count": 16,
   "metadata": {},
   "outputs": [
    {
     "name": "stdout",
     "output_type": "stream",
     "text": [
      "1982\n",
      "1980\n",
      "1973\n",
      "2000\n",
      "it tokk  4 times to get out of the loop\n"
     ]
    }
   ],
   "source": [
    "dates=[1982, 1980, 1973, 2000]\n",
    "i=0\n",
    "year =0\n",
    "# while 조건이 만족 할 때 까지 루프 수행\n",
    "while (year !=2000):\n",
    "    year = dates[i]\n",
    "    i = i+1\n",
    "    print(year)\n",
    "\n",
    "print('it tokk ', i, 'times to get out of the loop')"
   ]
  },
  {
   "cell_type": "code",
   "execution_count": 33,
   "metadata": {},
   "outputs": [
    {
     "name": "stdout",
     "output_type": "stream",
     "text": [
      "-5\n",
      "-4\n",
      "-3\n",
      "-2\n",
      "-1\n",
      "0\n",
      "1\n",
      "2\n",
      "3\n",
      "4\n",
      "5\n"
     ]
    }
   ],
   "source": [
    "# Quiz 1\n",
    "#  Write a for loop the prints out all the element between -5 and 5  using the range function.\n",
    "\n",
    "for i in range(-5,6):\n",
    "    print(i)"
   ]
  },
  {
   "cell_type": "code",
   "execution_count": 38,
   "metadata": {},
   "outputs": [
    {
     "name": "stdout",
     "output_type": "stream",
     "text": [
      "rock\n",
      "R&B\n",
      "Soundtrack\n",
      "R&B\n",
      "soul\n",
      "pop\n"
     ]
    }
   ],
   "source": [
    "#Quiz 2\n",
    "# Print the elements of the following list:\n",
    "# Genres=[ 'rock', 'R&B', 'Soundtrack', 'R&B', 'soul', 'pop']\n",
    "# Make sure you follow Python conventions.\n",
    "Genres=[ 'rock', 'R&B', 'Soundtrack', 'R&B', 'soul', 'pop']\n",
    "for i in Genres:\n",
    "    print(i)\n"
   ]
  },
  {
   "cell_type": "code",
   "execution_count": 40,
   "metadata": {},
   "outputs": [
    {
     "name": "stdout",
     "output_type": "stream",
     "text": [
      "red\n",
      "yellow\n",
      "green\n",
      "purple\n",
      "blue\n"
     ]
    }
   ],
   "source": [
    "# Quiz3\n",
    "# Write a for loop that prints out the following list: squares=['red', 'yellow', 'green', 'purple', 'blue']\n",
    "squares=['red', 'yellow', 'green', 'purple', 'blue']\n",
    "for i in squares:\n",
    "    print(i)"
   ]
  },
  {
   "cell_type": "code",
   "execution_count": 55,
   "metadata": {},
   "outputs": [
    {
     "name": "stdout",
     "output_type": "stream",
     "text": [
      "10\n",
      "9.5\n",
      "10\n",
      "8\n",
      "7.5\n"
     ]
    }
   ],
   "source": [
    "# Quiz 4\n",
    "# Write a while loop to display the values of the Rating of an album playlist stored in the list PlayListRatings. If the score is less than 6, exit the loop. The list PlayListRatings is given by: PlayListRatings = [10, 9.5, 10, 8, 7.5, 5, 10, 10]\n",
    "PlayListRatings = [10, 9.5, 10, 8, 7.5, 5, 10, 10]\n",
    "i=0\n",
    "rating=PlayListRatings[i]\n",
    "while (rating >=6):\n",
    "    print(rating)\n",
    "    i=i+1\n",
    "    rating=PlayListRatings[i]\n",
    "    "
   ]
  },
  {
   "cell_type": "code",
   "execution_count": 58,
   "metadata": {},
   "outputs": [
    {
     "name": "stdout",
     "output_type": "stream",
     "text": [
      "['orange', 'orange']\n"
     ]
    }
   ],
   "source": [
    "# Quiz 5\n",
    "# Write a while loop to copy the strings 'orange' of the list squares to the list new_squares. Stop and exit the loop if the value on the list is not 'orange':\n",
    "squares = ['orange', 'orange', 'purple', 'blue ', 'orange']\n",
    "new_squares = []\n",
    "i=0\n",
    "while (squares[i] =='orange'):\n",
    "    new_squares.append(squares[i])\n",
    "    i=i+1\n",
    "print(new_squares)\n",
    "\n"
   ]
  },
  {
   "cell_type": "code",
   "execution_count": null,
   "metadata": {},
   "outputs": [],
   "source": []
  }
 ],
 "metadata": {
  "kernelspec": {
   "display_name": "Python 3",
   "language": "python",
   "name": "python3"
  },
  "language_info": {
   "codemirror_mode": {
    "name": "ipython",
    "version": 3
   },
   "file_extension": ".py",
   "mimetype": "text/x-python",
   "name": "python",
   "nbconvert_exporter": "python",
   "pygments_lexer": "ipython3",
   "version": "3.9.13"
  },
  "orig_nbformat": 4,
  "vscode": {
   "interpreter": {
    "hash": "c06e495c31ef3e3bbca5e8ede419b4785d5969cc0918a331bd41dd4befedf2e9"
   }
  }
 },
 "nbformat": 4,
 "nbformat_minor": 2
}
