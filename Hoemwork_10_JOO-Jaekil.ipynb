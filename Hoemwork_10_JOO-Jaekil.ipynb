{
 "cells": [
  {
   "cell_type": "code",
   "execution_count": null,
   "id": "ea472736",
   "metadata": {},
   "outputs": [],
   "source": [
    "# Homework 10th week Joo, Jaekil 2022271314"
   ]
  },
  {
   "cell_type": "code",
   "execution_count": 2,
   "id": "451a3b9c",
   "metadata": {},
   "outputs": [],
   "source": [
    "result = 0\n",
    "def adder (num):\n",
    "    # global 은 변수를 어디서나 사용할 수 있는 것\n",
    "    global result\n",
    "    result += num\n",
    "    return result\n"
   ]
  },
  {
   "cell_type": "code",
   "execution_count": 3,
   "id": "54ab7245",
   "metadata": {},
   "outputs": [
    {
     "name": "stdout",
     "output_type": "stream",
     "text": [
      "3\n",
      "7\n"
     ]
    }
   ],
   "source": [
    "print (adder(3))\n",
    "print (adder(4))\n"
   ]
  },
  {
   "cell_type": "code",
   "execution_count": 20,
   "id": "e1404be0",
   "metadata": {},
   "outputs": [
    {
     "name": "stdout",
     "output_type": "stream",
     "text": [
      "15\n"
     ]
    }
   ],
   "source": [
    "print(adder(4))"
   ]
  },
  {
   "cell_type": "code",
   "execution_count": 21,
   "id": "9242b64a",
   "metadata": {},
   "outputs": [
    {
     "data": {
      "text/plain": [
       "20"
      ]
     },
     "execution_count": 21,
     "metadata": {},
     "output_type": "execute_result"
    }
   ],
   "source": [
    "adder(5)\n"
   ]
  },
  {
   "cell_type": "code",
   "execution_count": 9,
   "id": "fa541526",
   "metadata": {},
   "outputs": [],
   "source": [
    "result1 = 0\n",
    "result2 = 0"
   ]
  },
  {
   "cell_type": "code",
   "execution_count": 22,
   "id": "15b14c93",
   "metadata": {},
   "outputs": [
    {
     "name": "stdout",
     "output_type": "stream",
     "text": [
      "8\n"
     ]
    }
   ],
   "source": [
    "def adder1(num):\n",
    "    global result1\n",
    "    result1 += num\n",
    "    return result1\n",
    "\n",
    "print(result1)"
   ]
  },
  {
   "cell_type": "code",
   "execution_count": 23,
   "id": "039759cf",
   "metadata": {},
   "outputs": [
    {
     "name": "stdout",
     "output_type": "stream",
     "text": [
      "8\n"
     ]
    }
   ],
   "source": [
    "def adder2(num):\n",
    "    global result2\n",
    "    result2 += num\n",
    "    return result2\n",
    "\n",
    "print(result2)"
   ]
  },
  {
   "cell_type": "code",
   "execution_count": 24,
   "id": "72b01b22",
   "metadata": {},
   "outputs": [
    {
     "data": {
      "text/plain": [
       "11"
      ]
     },
     "execution_count": 24,
     "metadata": {},
     "output_type": "execute_result"
    }
   ],
   "source": [
    "adder1(3)"
   ]
  },
  {
   "cell_type": "code",
   "execution_count": 25,
   "id": "8a416b56",
   "metadata": {},
   "outputs": [
    {
     "data": {
      "text/plain": [
       "13"
      ]
     },
     "execution_count": 25,
     "metadata": {},
     "output_type": "execute_result"
    }
   ],
   "source": [
    "adder2(5)\n"
   ]
  },
  {
   "cell_type": "code",
   "execution_count": 26,
   "id": "7734d581",
   "metadata": {},
   "outputs": [
    {
     "data": {
      "text/plain": [
       "32"
      ]
     },
     "execution_count": 26,
     "metadata": {},
     "output_type": "execute_result"
    }
   ],
   "source": [
    "adder2(3) + adder1(5)"
   ]
  },
  {
   "cell_type": "code",
   "execution_count": 27,
   "id": "ffe4a899",
   "metadata": {},
   "outputs": [],
   "source": [
    "# 클래스를 하기위해서는 셀프 변수를 초기화 한다 \n",
    "# 1) 우선 클래스를 선언한다 -> class \"클래스명\" :\n",
    "# 그리고 초기화 : def __init__(self): -> 하고 그 다음에 self.result =0\n",
    "# 함수 데피니션에는 def \"함수명\" (self, \"변수\") 로 함.\n",
    "class Calculator:\n",
    "    def __init__(self):\n",
    "        self.result = 0\n",
    "# class 에는 항상 함수 변수 정의시 self를 집어넣어 준다 ! 클래스 Calculator 안에 객체 함수 adder(self, num) 만든다. \n",
    "#사용할 때는 없어도 되는 것\n",
    "    def adder(self, num): \n",
    "        self.result += num\n",
    "        return self.result"
   ]
  },
  {
   "cell_type": "code",
   "execution_count": 28,
   "id": "96c8b606",
   "metadata": {},
   "outputs": [
    {
     "name": "stdout",
     "output_type": "stream",
     "text": [
      "3\n",
      "7\n",
      "28\n"
     ]
    }
   ],
   "source": [
    "    #Calculator 클래스를 가지고 Cal1 이라는 객체를 만든다. 이때는 ()를 집어넣고 클래스는 하나 객체는 여러개 가능\n",
    "    # 클래스 Calculator 안에 객체 adder 가 들어 있다. 이 객체 함수는 공통으로 꺼내 쓸 수 있다. \n",
    "cal1 = Calculator()\n",
    "cal2 = Calculator()\n",
    "\n",
    "print(cal1.adder(3))\n",
    "print(cal1.adder(4))\n",
    "cal2.adder(10)\n",
    "cal2.adder(15)\n",
    "print(cal2.adder(3))"
   ]
  },
  {
   "cell_type": "code",
   "execution_count": 17,
   "id": "c5a4b880",
   "metadata": {},
   "outputs": [
    {
     "data": {
      "text/plain": [
       "10"
      ]
     },
     "execution_count": 17,
     "metadata": {},
     "output_type": "execute_result"
    }
   ],
   "source": [
    "cal1.adder(3)"
   ]
  },
  {
   "cell_type": "code",
   "execution_count": 18,
   "id": "5c7d09f0",
   "metadata": {},
   "outputs": [
    {
     "data": {
      "text/plain": [
       "31"
      ]
     },
     "execution_count": 18,
     "metadata": {},
     "output_type": "execute_result"
    }
   ],
   "source": [
    "cal2.adder(3)\n"
   ]
  },
  {
   "cell_type": "code",
   "execution_count": 29,
   "id": "9e7d1cd2",
   "metadata": {},
   "outputs": [
    {
     "data": {
      "text/plain": [
       "'지구는 4000년에 망한다'"
      ]
     },
     "execution_count": 29,
     "metadata": {},
     "output_type": "execute_result"
    }
   ],
   "source": [
    "# 클래스 안 그리고 객체 함수 밖에 변수 정하는 것 --> \"클래스 변수\"\n",
    "class Service :\n",
    "    secret = \"지구는 4000년에 망한다\"\n",
    "\n",
    "s =Service ()\n",
    "s.secret"
   ]
  },
  {
   "cell_type": "code",
   "execution_count": 33,
   "id": "98b49c27",
   "metadata": {},
   "outputs": [
    {
     "name": "stdout",
     "output_type": "stream",
     "text": [
      " 지구가 멸망한다는 것은 뻥이다\n"
     ]
    }
   ],
   "source": [
    "Service.secret\n",
    "Service.secret = ' 지구가 멸망한다는 것은 뻥이다'\n",
    "print(s.secret)\n"
   ]
  },
  {
   "cell_type": "code",
   "execution_count": 69,
   "id": "3e70e170",
   "metadata": {},
   "outputs": [
    {
     "name": "stdout",
     "output_type": "stream",
     "text": [
      "8\n"
     ]
    }
   ],
   "source": [
    "print(result1)\n",
    "# 클래스 내의 객체 변수를 바로 쓸수도 있다.  그리고 글래스 변수도 바로 쓸수 있다."
   ]
  },
  {
   "cell_type": "code",
   "execution_count": 70,
   "id": "450fc8c5",
   "metadata": {},
   "outputs": [
    {
     "data": {
      "text/plain": [
       "__main__.Service"
      ]
     },
     "execution_count": 70,
     "metadata": {},
     "output_type": "execute_result"
    }
   ],
   "source": [
    "# 클래스 이름드로 바로 사용도 가능\n",
    "Service "
   ]
  },
  {
   "cell_type": "code",
   "execution_count": 71,
   "id": "95caef32",
   "metadata": {},
   "outputs": [
    {
     "name": "stdout",
     "output_type": "stream",
     "text": [
      "<__main__.Service object at 0x00000144B6F4CA60>\n"
     ]
    }
   ],
   "source": [
    "print (s)"
   ]
  },
  {
   "cell_type": "code",
   "execution_count": 34,
   "id": "840deb71",
   "metadata": {},
   "outputs": [
    {
     "name": "stdout",
     "output_type": "stream",
     "text": [
      "1 + 1 = 2 이다.\n"
     ]
    }
   ],
   "source": [
    "class Service: \n",
    "    secret = '지구는 4006년에 망한다'\n",
    "    def sum(self, a, b):\n",
    "        result = a + b\n",
    "        print(\"%s + %s = %s 이다.\" %(a,b,result))\n",
    "\n",
    "s=Service()\n",
    "s.sum(1,1)    \n",
    "# self는 def에서 정의할 때 쓰지만, 함수 집어넣을 때는 사용하지 않고 ,a,b 만 사용"
   ]
  },
  {
   "cell_type": "code",
   "execution_count": 35,
   "id": "bcd056f4",
   "metadata": {},
   "outputs": [
    {
     "name": "stdout",
     "output_type": "stream",
     "text": [
      "1 + 3 = 4 이다.\n"
     ]
    }
   ],
   "source": [
    "an = Service()\n",
    "an.sum(1,3)"
   ]
  },
  {
   "cell_type": "code",
   "execution_count": 36,
   "id": "7331ac33",
   "metadata": {},
   "outputs": [],
   "source": [
    "class Service:\n",
    "    secret =\"지구는 40006년에 망한다\"\n",
    "    def setname(self, name):\n",
    "        self.name = name\n",
    "        \n",
    "    def sum(self,a,b):\n",
    "        result = a+ b\n",
    "        print (\"%s님, %s + %s = %s이다.\" %(self.name, a,b, result))\n",
    "        "
   ]
  },
  {
   "cell_type": "code",
   "execution_count": 37,
   "id": "16ad4c14",
   "metadata": {},
   "outputs": [],
   "source": [
    "task = Service ()"
   ]
  },
  {
   "cell_type": "code",
   "execution_count": 38,
   "id": "48f81014",
   "metadata": {},
   "outputs": [],
   "source": [
    "task.setname('박달도사')\n"
   ]
  },
  {
   "cell_type": "code",
   "execution_count": 39,
   "id": "a8b1ee9b",
   "metadata": {},
   "outputs": [
    {
     "name": "stdout",
     "output_type": "stream",
     "text": [
      "박달도사님, 1 + 10 = 11이다.\n"
     ]
    }
   ],
   "source": [
    "task.sum(1,10)"
   ]
  },
  {
   "cell_type": "code",
   "execution_count": 40,
   "id": "e0649ac8",
   "metadata": {},
   "outputs": [
    {
     "name": "stdout",
     "output_type": "stream",
     "text": [
      "김정보\n"
     ]
    }
   ],
   "source": [
    "kim = Service()\n",
    "joo = Service()\n",
    "kim.name = '김정보'\n",
    "print(kim.name)"
   ]
  },
  {
   "cell_type": "code",
   "execution_count": 42,
   "id": "0513cd61",
   "metadata": {},
   "outputs": [
    {
     "name": "stdout",
     "output_type": "stream",
     "text": [
      "주재길\n"
     ]
    }
   ],
   "source": [
    "joo.name = '주재길'\n",
    "print(joo.name)"
   ]
  },
  {
   "cell_type": "code",
   "execution_count": 43,
   "id": "2a5a29f0",
   "metadata": {},
   "outputs": [
    {
     "name": "stdout",
     "output_type": "stream",
     "text": [
      "지구는 40006년에 망한다\n"
     ]
    }
   ],
   "source": [
    "kim.secret=' no secret'\n",
    "print(joo.secret)"
   ]
  },
  {
   "cell_type": "code",
   "execution_count": 44,
   "id": "2f819b23",
   "metadata": {},
   "outputs": [
    {
     "name": "stdout",
     "output_type": "stream",
     "text": [
      " no secret\n"
     ]
    }
   ],
   "source": [
    "print(kim.secret)"
   ]
  },
  {
   "cell_type": "code",
   "execution_count": 45,
   "id": "b2828a03",
   "metadata": {},
   "outputs": [
    {
     "data": {
      "text/plain": [
       "'지구는 40006년에 망한다'"
      ]
     },
     "execution_count": 45,
     "metadata": {},
     "output_type": "execute_result"
    }
   ],
   "source": [
    "Service.secret"
   ]
  },
  {
   "cell_type": "code",
   "execution_count": 52,
   "id": "348b8050",
   "metadata": {},
   "outputs": [],
   "source": [
    "class Service:\n",
    "    secret = '지구는 4006년에 멸망'\n",
    "    def __init__(self,name):\n",
    "        self.name = name \n",
    "    def sum(self, a, b):\n",
    "        result = a+b\n",
    "        print(\"%s님, %s + %s = %s 입니다.\" %(self.name, a, b, result))"
   ]
  },
  {
   "cell_type": "code",
   "execution_count": 53,
   "id": "9663f0ba",
   "metadata": {},
   "outputs": [
    {
     "name": "stdout",
     "output_type": "stream",
     "text": [
      "주재길님, 1 + 1 = 2 입니다.\n"
     ]
    }
   ],
   "source": [
    "s = Service('주재길')\n",
    "s.sum(1,1)"
   ]
  },
  {
   "cell_type": "code",
   "execution_count": 54,
   "id": "5cb8c6b7",
   "metadata": {},
   "outputs": [
    {
     "data": {
      "text/plain": [
       "__main__.FourCal"
      ]
     },
     "execution_count": 54,
     "metadata": {},
     "output_type": "execute_result"
    }
   ],
   "source": [
    "class FourCal:\n",
    "    pass\n",
    "\n",
    "a = FourCal()\n",
    "type(a)"
   ]
  },
  {
   "cell_type": "code",
   "execution_count": 60,
   "id": "6174e5a5",
   "metadata": {},
   "outputs": [
    {
     "name": "stdout",
     "output_type": "stream",
     "text": [
      "4\n"
     ]
    }
   ],
   "source": [
    "class FourCal:\n",
    "    def setdata(self, first, second):\n",
    "        self.first = first\n",
    "        self.second =second\n",
    "\n",
    "    def sum(self):\n",
    "        result = self.first + self.second\n",
    "        return result\n",
    "\n",
    "\n",
    "a= FourCal()\n",
    "a.setdata(4,2)\n",
    "\n",
    "print(a.first)"
   ]
  },
  {
   "cell_type": "code",
   "execution_count": 56,
   "id": "32eac5dd",
   "metadata": {},
   "outputs": [
    {
     "name": "stdout",
     "output_type": "stream",
     "text": [
      "2\n"
     ]
    }
   ],
   "source": [
    "print(a.second)"
   ]
  },
  {
   "cell_type": "code",
   "execution_count": 61,
   "id": "f1b0a9dc",
   "metadata": {},
   "outputs": [
    {
     "name": "stdout",
     "output_type": "stream",
     "text": [
      "6\n"
     ]
    }
   ],
   "source": [
    "print(a.sum())"
   ]
  },
  {
   "cell_type": "code",
   "execution_count": 62,
   "id": "c8d7730d",
   "metadata": {},
   "outputs": [],
   "source": [
    "class FourCal:\n",
    "    def setdata(self, first, second):\n",
    "        self.first = first\n",
    "        self.second = second\n",
    "        \n",
    "    def sum(self):\n",
    "        result = self.first + self.second\n",
    "        return result   \n",
    "     \n",
    "    def mul(self):\n",
    "        result = self.first*self.second\n",
    "        return result\n",
    "    \n",
    "    def sub(self):\n",
    "        result = self.first - self.second\n",
    "        return result\n",
    "    \n",
    "    def div(self):\n",
    "        result = self.first / self.second\n",
    "        return result"
   ]
  },
  {
   "cell_type": "code",
   "execution_count": 63,
   "id": "caa106ef",
   "metadata": {},
   "outputs": [],
   "source": [
    "a=FourCal()\n",
    "b=FourCal()\n",
    "a.setdata(4,2)\n",
    "b.setdata(3,87)"
   ]
  },
  {
   "cell_type": "code",
   "execution_count": 64,
   "id": "6e18f752",
   "metadata": {},
   "outputs": [
    {
     "data": {
      "text/plain": [
       "6"
      ]
     },
     "execution_count": 64,
     "metadata": {},
     "output_type": "execute_result"
    }
   ],
   "source": [
    "a.sum()"
   ]
  },
  {
   "cell_type": "code",
   "execution_count": 65,
   "id": "100c167c",
   "metadata": {},
   "outputs": [
    {
     "data": {
      "text/plain": [
       "8"
      ]
     },
     "execution_count": 65,
     "metadata": {},
     "output_type": "execute_result"
    }
   ],
   "source": [
    "a.mul()"
   ]
  },
  {
   "cell_type": "code",
   "execution_count": 66,
   "id": "1b6bba48",
   "metadata": {},
   "outputs": [
    {
     "data": {
      "text/plain": [
       "2.0"
      ]
     },
     "execution_count": 66,
     "metadata": {},
     "output_type": "execute_result"
    }
   ],
   "source": [
    "a.div()"
   ]
  },
  {
   "cell_type": "code",
   "execution_count": 67,
   "id": "a3d6ea93",
   "metadata": {},
   "outputs": [
    {
     "data": {
      "text/plain": [
       "-84"
      ]
     },
     "execution_count": 67,
     "metadata": {},
     "output_type": "execute_result"
    }
   ],
   "source": [
    "b.sub()"
   ]
  },
  {
   "cell_type": "code",
   "execution_count": 70,
   "id": "927252fb",
   "metadata": {},
   "outputs": [
    {
     "name": "stdout",
     "output_type": "stream",
     "text": [
      "player1 rolled[2, 5, 3]\n",
      "player2 rolled[5, 4, 4]\n",
      "player2 win\n"
     ]
    }
   ],
   "source": [
    "import random\n",
    "player1_dice =[]\n",
    "player2_dice = []\n",
    "\n",
    "for i in range(3):\n",
    "    player1_dice.append(random.randint(1,6))\n",
    "    player2_dice.append(random.randint(1,6))\n",
    "\n",
    "print('player1 rolled' + str(player1_dice))\n",
    "print('player2 rolled' + str(player2_dice))\n",
    "\n",
    "if sum(player1_dice) == sum(player2_dice):\n",
    "    print(\"draw\")\n",
    "elif sum(player1_dice) > sum(player2_dice):\n",
    "    print('player1 win')\n",
    "else:\n",
    "    print('player2 win')"
   ]
  },
  {
   "cell_type": "code",
   "execution_count": 71,
   "id": "20b567a4",
   "metadata": {},
   "outputs": [],
   "source": [
    "from random import randint\n",
    "\n",
    "class player:\n",
    "    def __init__(self):\n",
    "        self.dice =[]\n",
    "\n",
    "    def roll(self):\n",
    "        self.dice =[]\n",
    "        for i in range(3):\n",
    "            self.dice.append(randint(1,6))\n",
    "\n",
    "    def get_dice(self):\n",
    "        return self.dice\n",
    "    "
   ]
  },
  {
   "cell_type": "code",
   "execution_count": 72,
   "id": "ec54a536",
   "metadata": {},
   "outputs": [
    {
     "name": "stdout",
     "output_type": "stream",
     "text": [
      "player1 roller[6, 1, 5]\n",
      "player2 roller[3, 1, 1]\n",
      "player1 wins !! \n"
     ]
    }
   ],
   "source": [
    "player1 = player()\n",
    "player2 = player()\n",
    "player1.roll()\n",
    "player2.roll()\n",
    "\n",
    "print('player1 roller' + str(player1.get_dice()))\n",
    "print('player2 roller' + str(player2.get_dice()))\n",
    "\n",
    "if sum(player1.get_dice()) == sum(player2.get_dice()):\n",
    "    print ('draw !')\n",
    "elif sum(player1.get_dice()) > sum(player2.get_dice()):\n",
    "    print ('player1 wins !! ')\n",
    "else:\n",
    "    print(\"players2 wins !!\")"
   ]
  }
 ],
 "metadata": {
  "kernelspec": {
   "display_name": "Python 3",
   "language": "python",
   "name": "python3"
  },
  "language_info": {
   "codemirror_mode": {
    "name": "ipython",
    "version": 3
   },
   "file_extension": ".py",
   "mimetype": "text/x-python",
   "name": "python",
   "nbconvert_exporter": "python",
   "pygments_lexer": "ipython3",
   "version": "3.9.13"
  }
 },
 "nbformat": 4,
 "nbformat_minor": 5
}
