{
 "cells": [
  {
   "cell_type": "code",
   "execution_count": null,
   "id": "ea472736",
   "metadata": {},
   "outputs": [],
   "source": [
    "# Homework 10th week Joo, Jaekil 2022271314"
   ]
  },
  {
   "cell_type": "code",
   "execution_count": 10,
   "id": "451a3b9c",
   "metadata": {},
   "outputs": [],
   "source": [
    "result = 0\n",
    "def adder (num):\n",
    "    # global 은 변수를 어디서나 사용할 수 있는 것\n",
    "    global result\n",
    "    result += num\n",
    "    return result\n"
   ]
  },
  {
   "cell_type": "code",
   "execution_count": 11,
   "id": "54ab7245",
   "metadata": {},
   "outputs": [
    {
     "name": "stdout",
     "output_type": "stream",
     "text": [
      "3\n",
      "7\n"
     ]
    }
   ],
   "source": [
    "print (adder(3))\n",
    "print (adder(4))\n"
   ]
  },
  {
   "cell_type": "code",
   "execution_count": 12,
   "id": "9242b64a",
   "metadata": {},
   "outputs": [
    {
     "data": {
      "text/plain": [
       "11"
      ]
     },
     "execution_count": 12,
     "metadata": {},
     "output_type": "execute_result"
    }
   ],
   "source": [
    "adder(4)\n"
   ]
  },
  {
   "cell_type": "code",
   "execution_count": 13,
   "id": "fa541526",
   "metadata": {},
   "outputs": [],
   "source": [
    "result1 = 0\n",
    "result2 = 0"
   ]
  },
  {
   "cell_type": "code",
   "execution_count": 14,
   "id": "15b14c93",
   "metadata": {},
   "outputs": [],
   "source": [
    "def adder1(num):\n",
    "    global result1\n",
    "    result1 += num\n",
    "    return result1"
   ]
  },
  {
   "cell_type": "code",
   "execution_count": 15,
   "id": "039759cf",
   "metadata": {},
   "outputs": [],
   "source": [
    "def adder2(num):\n",
    "    global result2\n",
    "    result2 += num\n",
    "    return result2"
   ]
  },
  {
   "cell_type": "code",
   "execution_count": 16,
   "id": "72b01b22",
   "metadata": {},
   "outputs": [
    {
     "data": {
      "text/plain": [
       "3"
      ]
     },
     "execution_count": 16,
     "metadata": {},
     "output_type": "execute_result"
    }
   ],
   "source": [
    "adder1(3)"
   ]
  },
  {
   "cell_type": "code",
   "execution_count": 17,
   "id": "8a416b56",
   "metadata": {},
   "outputs": [
    {
     "data": {
      "text/plain": [
       "5"
      ]
     },
     "execution_count": 17,
     "metadata": {},
     "output_type": "execute_result"
    }
   ],
   "source": [
    "adder2(5)\n"
   ]
  },
  {
   "cell_type": "code",
   "execution_count": 18,
   "id": "7734d581",
   "metadata": {},
   "outputs": [
    {
     "data": {
      "text/plain": [
       "16"
      ]
     },
     "execution_count": 18,
     "metadata": {},
     "output_type": "execute_result"
    }
   ],
   "source": [
    "adder2(3) + adder1(5)"
   ]
  },
  {
   "cell_type": "code",
   "execution_count": 67,
   "id": "ffe4a899",
   "metadata": {},
   "outputs": [],
   "source": [
    "# 클래스를 하기위해서는 셀프 변수를 초기화 한다 \n",
    "# 1) 우선 클래스를 선언한다 -> class \"클래스명\" :\n",
    "# 그리고 초기화 : def __init__(self): -> 하고 그 다음에 self.result =0\n",
    "# 함수 데피니션에는 def \"함수명\" (self, \"변수\") 로 함.\n",
    "class Calculator:\n",
    "    def __init__(self):\n",
    "        self.result = 0\n",
    "# class 에는 항상 함수 변수 정의시 self를 집어넣어 준다 ! 클래스 Calculator 안에 객체 함수 adder(self, num) 만든다. \n",
    "#사용할 때는 없어도 되는 것\n",
    "    def adder(self, num): \n",
    "        self.result += num\n",
    "        return self.result"
   ]
  },
  {
   "cell_type": "code",
   "execution_count": 21,
   "id": "96c8b606",
   "metadata": {},
   "outputs": [
    {
     "name": "stdout",
     "output_type": "stream",
     "text": [
      "3\n",
      "7\n",
      "28\n"
     ]
    }
   ],
   "source": [
    "    #Calculator 클래스를 가지고 Cal1 이라는 객체를 만든다. 이때는 ()를 집어넣고 클래스는 하나 객체는 여러개 가능\n",
    "    # 클래스 Calculator 안에 객체 adder 가 들어 있다. 이 객체 함수는 공통으로 꺼내 쓸 수 있다. \n",
    "cal1 = Calculator()\n",
    "cal2 = Calculator()\n",
    "\n",
    "print(cal1.adder(3))\n",
    "print(cal1.adder(4))\n",
    "cal2.adder(10)\n",
    "cal2.adder(15)\n",
    "print(cal2.adder(3))"
   ]
  },
  {
   "cell_type": "code",
   "execution_count": 22,
   "id": "c5a4b880",
   "metadata": {},
   "outputs": [
    {
     "data": {
      "text/plain": [
       "10"
      ]
     },
     "execution_count": 22,
     "metadata": {},
     "output_type": "execute_result"
    }
   ],
   "source": [
    "cal1.adder(3)"
   ]
  },
  {
   "cell_type": "code",
   "execution_count": 23,
   "id": "5c7d09f0",
   "metadata": {},
   "outputs": [
    {
     "data": {
      "text/plain": [
       "31"
      ]
     },
     "execution_count": 23,
     "metadata": {},
     "output_type": "execute_result"
    }
   ],
   "source": [
    "cal2.adder(3)\n"
   ]
  },
  {
   "cell_type": "code",
   "execution_count": 68,
   "id": "9e7d1cd2",
   "metadata": {},
   "outputs": [
    {
     "data": {
      "text/plain": [
       "'지구는 4000년에 망한다'"
      ]
     },
     "execution_count": 68,
     "metadata": {},
     "output_type": "execute_result"
    }
   ],
   "source": [
    "# 클래스 안 그리고 객체 함수 밖에 변수 정하는 것 --> \"클래스 변수\"\n",
    "class Service :\n",
    "    secret = \"지구는 4000년에 망한다\"\n",
    "\n",
    "s =Service ()\n",
    "s.secret"
   ]
  },
  {
   "cell_type": "code",
   "execution_count": 69,
   "id": "3e70e170",
   "metadata": {},
   "outputs": [
    {
     "name": "stdout",
     "output_type": "stream",
     "text": [
      "8\n"
     ]
    }
   ],
   "source": [
    "print(result1)\n",
    "# 클래스 내의 객체 변수를 바로 쓸수도 있다.  그리고 글래스 변수도 바로 쓸수 있다."
   ]
  },
  {
   "cell_type": "code",
   "execution_count": 70,
   "id": "450fc8c5",
   "metadata": {},
   "outputs": [
    {
     "data": {
      "text/plain": [
       "__main__.Service"
      ]
     },
     "execution_count": 70,
     "metadata": {},
     "output_type": "execute_result"
    }
   ],
   "source": [
    "# 클래스 이름드로 바로 사용도 가능\n",
    "Service "
   ]
  },
  {
   "cell_type": "code",
   "execution_count": 71,
   "id": "95caef32",
   "metadata": {},
   "outputs": [
    {
     "name": "stdout",
     "output_type": "stream",
     "text": [
      "<__main__.Service object at 0x00000144B6F4CA60>\n"
     ]
    }
   ],
   "source": [
    "print (s)"
   ]
  },
  {
   "cell_type": "code",
   "execution_count": 74,
   "id": "840deb71",
   "metadata": {},
   "outputs": [],
   "source": [
    "class Service: \n",
    "    def sum(self, a, b):\n",
    "        result = a + b\n",
    "        print(\"%s + %s = %s 이다.\" %(a,b,result))\n",
    "        \n",
    "# self는 def에서 정의할 때 쓰지만, 함수 집어넣을 때는 사용하지 않고 ,a,b 만 사용"
   ]
  },
  {
   "cell_type": "code",
   "execution_count": 76,
   "id": "bcd056f4",
   "metadata": {},
   "outputs": [
    {
     "name": "stdout",
     "output_type": "stream",
     "text": [
      "1 + 3 = 4 이다.\n"
     ]
    }
   ],
   "source": [
    "an = Service()\n",
    "an.sum(1,3)"
   ]
  },
  {
   "cell_type": "code",
   "execution_count": 78,
   "id": "7331ac33",
   "metadata": {},
   "outputs": [],
   "source": [
    "class Service:\n",
    "    secret =\"지구는 40006년에 망한다\"\n",
    "    def setname(self, name):\n",
    "        self.name = name\n",
    "        \n",
    "    def sum(self,a,b):\n",
    "        result = a+ b\n",
    "        print (\"%s님, %s + %s = %s이다.\" %(self.name, a,b, result))\n",
    "        "
   ]
  },
  {
   "cell_type": "code",
   "execution_count": 79,
   "id": "16ad4c14",
   "metadata": {},
   "outputs": [],
   "source": [
    "task = Service ()"
   ]
  },
  {
   "cell_type": "code",
   "execution_count": 80,
   "id": "48f81014",
   "metadata": {},
   "outputs": [],
   "source": [
    "task.setname('박달도사')\n"
   ]
  },
  {
   "cell_type": "code",
   "execution_count": 82,
   "id": "a8b1ee9b",
   "metadata": {},
   "outputs": [
    {
     "name": "stdout",
     "output_type": "stream",
     "text": [
      "박달도사님, 1 + 10 = 11이다.\n"
     ]
    }
   ],
   "source": [
    "task.sum(1,10)"
   ]
  },
  {
   "cell_type": "code",
   "execution_count": 83,
   "id": "01cf8b56",
   "metadata": {},
   "outputs": [],
   "source": [
    "class FourCal:\n",
    "    pass"
   ]
  },
  {
   "cell_type": "code",
   "execution_count": 84,
   "id": "9ed739ce",
   "metadata": {},
   "outputs": [],
   "source": [
    "cal=FourCal()\n"
   ]
  },
  {
   "cell_type": "code",
   "execution_count": 85,
   "id": "70f0b871",
   "metadata": {},
   "outputs": [
    {
     "data": {
      "text/plain": [
       "__main__.FourCal"
      ]
     },
     "execution_count": 85,
     "metadata": {},
     "output_type": "execute_result"
    }
   ],
   "source": [
    "type(a)"
   ]
  },
  {
   "cell_type": "code",
   "execution_count": 87,
   "id": "9cc11769",
   "metadata": {},
   "outputs": [],
   "source": [
    "class FourCal:\n",
    "    def setdata(self, first, second):\n",
    "        self.first = first\n",
    "        self.second = second\n",
    "        \n",
    "    def sum(self):\n",
    "        result = self.first + self.second\n",
    "        return result   \n",
    "     \n",
    "    def mul(self):\n",
    "        result = self.first*self.second\n",
    "        return result\n",
    "    \n",
    "    def sub(self):\n",
    "        result = self.first - self.second\n",
    "        return result\n",
    "    \n",
    "    def div(self):\n",
    "        result = self.first / self.second\n",
    "        return result"
   ]
  },
  {
   "cell_type": "code",
   "execution_count": 88,
   "id": "0e250079",
   "metadata": {},
   "outputs": [],
   "source": [
    "cal=FourCal()\n"
   ]
  },
  {
   "cell_type": "code",
   "execution_count": 89,
   "id": "19be1854",
   "metadata": {},
   "outputs": [],
   "source": [
    "cal.setdata(1,8)"
   ]
  },
  {
   "cell_type": "code",
   "execution_count": 92,
   "id": "1f7670c4",
   "metadata": {},
   "outputs": [
    {
     "data": {
      "text/plain": [
       "9"
      ]
     },
     "execution_count": 92,
     "metadata": {},
     "output_type": "execute_result"
    }
   ],
   "source": [
    "cal.sum()"
   ]
  },
  {
   "cell_type": "code",
   "execution_count": 93,
   "id": "2e947f08",
   "metadata": {},
   "outputs": [
    {
     "data": {
      "text/plain": [
       "0.125"
      ]
     },
     "execution_count": 93,
     "metadata": {},
     "output_type": "execute_result"
    }
   ],
   "source": [
    "cal.div()"
   ]
  },
  {
   "cell_type": "code",
   "execution_count": 94,
   "id": "d11de977",
   "metadata": {},
   "outputs": [
    {
     "data": {
      "text/plain": [
       "-7"
      ]
     },
     "execution_count": 94,
     "metadata": {},
     "output_type": "execute_result"
    }
   ],
   "source": [
    "cal.sub()"
   ]
  },
  {
   "cell_type": "code",
   "execution_count": 95,
   "id": "bc675314",
   "metadata": {},
   "outputs": [
    {
     "data": {
      "text/plain": [
       "8"
      ]
     },
     "execution_count": 95,
     "metadata": {},
     "output_type": "execute_result"
    }
   ],
   "source": [
    "cal.mul()"
   ]
  },
  {
   "cell_type": "code",
   "execution_count": null,
   "id": "e0649ac8",
   "metadata": {},
   "outputs": [],
   "source": []
  }
 ],
 "metadata": {
  "kernelspec": {
   "display_name": "Python [conda env:root] *",
   "language": "python",
   "name": "conda-root-py"
  },
  "language_info": {
   "codemirror_mode": {
    "name": "ipython",
    "version": 3
   },
   "file_extension": ".py",
   "mimetype": "text/x-python",
   "name": "python",
   "nbconvert_exporter": "python",
   "pygments_lexer": "ipython3",
   "version": "3.9.7"
  }
 },
 "nbformat": 4,
 "nbformat_minor": 5
}
