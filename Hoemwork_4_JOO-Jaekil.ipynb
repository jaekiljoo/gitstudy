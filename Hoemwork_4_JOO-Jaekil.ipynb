{
 "cells": [
  {
   "cell_type": "code",
   "execution_count": 5,
   "metadata": {},
   "outputs": [
    {
     "data": {
      "text/plain": [
       "False"
      ]
     },
     "execution_count": 5,
     "metadata": {},
     "output_type": "execute_result"
    }
   ],
   "source": [
    "# Homework #4 JOO-Jaekil 2022271314\n",
    "# Condition Equal statement\n",
    "a=5\n",
    "a==6 #  if 문장이 없어도 if 조건문 역할\n"
   ]
  },
  {
   "cell_type": "code",
   "execution_count": 3,
   "metadata": {},
   "outputs": [
    {
     "name": "stdout",
     "output_type": "stream",
     "text": [
      "this album is amazing\n"
     ]
    }
   ],
   "source": [
    "# Homework #4 JOO-Jaekil 2022271314\n",
    "# Write an if statement to determine if an album had a rating greater than 8. Test it using the rating for the album “Back in Black” that had a rating of 8.5. If the statement is true print \"This album is Amazing!\"\n",
    "\n",
    "rating =8.5 #Back in Black\n",
    "if rating > 8:\n",
    "    print('this album is amazing')\n",
    "\n"
   ]
  },
  {
   "cell_type": "code",
   "execution_count": 6,
   "metadata": {},
   "outputs": [
    {
     "data": {
      "text/plain": [
       "False"
      ]
     },
     "execution_count": 6,
     "metadata": {},
     "output_type": "execute_result"
    }
   ],
   "source": [
    "# 비교 문 시험\n",
    "i=6\n",
    "i>7"
   ]
  },
  {
   "cell_type": "code",
   "execution_count": 4,
   "metadata": {},
   "outputs": [
    {
     "name": "stdout",
     "output_type": "stream",
     "text": [
      "this album is amazing\n"
     ]
    }
   ],
   "source": [
    "# Write an if-else statement that performs the following. If the rating is larger then eight print “this album is amazing”. If the rating is less than or equal to 8 print “this album is ok”.\n",
    "\n",
    "if rating > 8:\n",
    "    print('this album is amazing')\n",
    "else:\n",
    "    print(\"this album is ok\")\n",
    "\n",
    "    "
   ]
  },
  {
   "cell_type": "code",
   "execution_count": 7,
   "metadata": {},
   "outputs": [
    {
     "data": {
      "text/plain": [
       "False"
      ]
     },
     "execution_count": 7,
     "metadata": {},
     "output_type": "execute_result"
    }
   ],
   "source": [
    "#Set i = 2. The statement is false as 2 is not greater than 5:\n",
    "i=2\n",
    "i>5"
   ]
  },
  {
   "cell_type": "code",
   "execution_count": 8,
   "metadata": {},
   "outputs": [
    {
     "data": {
      "text/plain": [
       "True"
      ]
     },
     "execution_count": 8,
     "metadata": {},
     "output_type": "execute_result"
    }
   ],
   "source": [
    "#The inequality test uses an exclamation mark preceding the equal sign, if two operands are not equal then the condition becomes **True**.  For example, the following condition will produce **True** as long as the value of i is not equal to 6:\n",
    "# = 앞에 !를 써주면 아니다 라는 표현\n",
    "i=2\n",
    "i!=6\n"
   ]
  },
  {
   "cell_type": "code",
   "execution_count": 9,
   "metadata": {},
   "outputs": [
    {
     "data": {
      "text/plain": [
       "False"
      ]
     },
     "execution_count": 9,
     "metadata": {},
     "output_type": "execute_result"
    }
   ],
   "source": [
    "#when i equals 6 the inequality expression produces False. \n",
    "i=6\n",
    "i !=6"
   ]
  },
  {
   "cell_type": "code",
   "execution_count": 13,
   "metadata": {},
   "outputs": [
    {
     "data": {
      "text/plain": [
       "False"
      ]
     },
     "execution_count": 13,
     "metadata": {},
     "output_type": "execute_result"
    }
   ],
   "source": [
    "# string 에서도 inequality 는 동일하게 적용\n",
    "\"Michael\" == \"Tom\" \n"
   ]
  },
  {
   "cell_type": "markdown",
   "metadata": {},
   "source": []
  },
  {
   "cell_type": "code",
   "execution_count": 14,
   "metadata": {},
   "outputs": [
    {
     "data": {
      "text/plain": [
       "True"
      ]
     },
     "execution_count": 14,
     "metadata": {},
     "output_type": "execute_result"
    }
   ],
   "source": [
    "\"Michael\" != \"Tom\" "
   ]
  },
  {
   "cell_type": "code",
   "execution_count": 17,
   "metadata": {},
   "outputs": [
    {
     "name": "stdout",
     "output_type": "stream",
     "text": [
      "you are too young to enter Disco, you are prohibited\n",
      "ok\n"
     ]
    }
   ],
   "source": [
    "#if문 및 else 문장으로 저건별 대응\n",
    "age =17\n",
    "if age > 18:\n",
    "    print(\"you can enter Disco\")\n",
    "else:\n",
    "    print('you are too young to enter Disco, you are prohibited')\n",
    "    print('ok')"
   ]
  },
  {
   "cell_type": "code",
   "execution_count": 18,
   "metadata": {},
   "outputs": [
    {
     "name": "stdout",
     "output_type": "stream",
     "text": [
      "go see Meat Loaf\n",
      "Go next\n"
     ]
    }
   ],
   "source": [
    "age = 18\n",
    "if age > 18:\n",
    "    print('you can enter')\n",
    "else:\n",
    "    print('go see Meat Loaf')\n",
    "print('Go next')"
   ]
  },
  {
   "cell_type": "code",
   "execution_count": 20,
   "metadata": {},
   "outputs": [
    {
     "name": "stdout",
     "output_type": "stream",
     "text": [
      "go see Meat Loaf\n"
     ]
    }
   ],
   "source": [
    "age=17\n",
    "if age > 18:\n",
    "    print(\"you can enter\")\n",
    "elif age == 18:\n",
    "    print('you can go to Pink Floid')\n",
    "elif age ==0:\n",
    "    print('you are Baby')\n",
    "else :\n",
    "    print(\"go see Meat Loaf\" )"
   ]
  },
  {
   "cell_type": "code",
   "execution_count": 21,
   "metadata": {},
   "outputs": [
    {
     "name": "stdout",
     "output_type": "stream",
     "text": [
      "Album year is greater than 1980\n"
     ]
    }
   ],
   "source": [
    "album_year = 1983\n",
    "\n",
    "if album_year > 1980:\n",
    "    print(\"Album year is greater than 1980\")\n",
    "    \n"
   ]
  },
  {
   "cell_type": "code",
   "execution_count": 22,
   "metadata": {},
   "outputs": [
    {
     "name": "stdout",
     "output_type": "stream",
     "text": [
      "album year younger than 1980\n",
      "do something else !\n"
     ]
    }
   ],
   "source": [
    "# condition statement\n",
    "album_Y = 1983\n",
    "if album_Y > 1980:\n",
    "    print (\"album year younger than 1980\")\n",
    "else:\n",
    "    print ('album year is older than 1980')\n",
    "\n",
    "print ('do something else !')"
   ]
  },
  {
   "cell_type": "code",
   "execution_count": 23,
   "metadata": {},
   "outputs": [
    {
     "name": "stdout",
     "output_type": "stream",
     "text": [
      "this is not the case\n"
     ]
    }
   ],
   "source": [
    "album_Y = 1991\n",
    "if (album_Y > 1979 ) and (album_Y < 1990):\n",
    "    print ('album year is between 1979 and 1990 ')\n",
    "else:\n",
    "    print ('this is not the case')"
   ]
  },
  {
   "cell_type": "code",
   "execution_count": 24,
   "metadata": {},
   "outputs": [
    {
     "name": "stdout",
     "output_type": "stream",
     "text": [
      "Album was not made in the 1980's\n"
     ]
    }
   ],
   "source": [
    "# or 상황의 sTatement \n",
    "album_Y = 1980\n",
    "if (album_Y > 1980) or (album_Y < 1989):\n",
    "    print (\"Album was not made in the 1980's\")\n",
    "else:\n",
    "    print(\"The Album was made in the 1980's \")"
   ]
  },
  {
   "cell_type": "code",
   "execution_count": 27,
   "metadata": {},
   "outputs": [
    {
     "name": "stdout",
     "output_type": "stream",
     "text": [
      "album year is not 1984\n"
     ]
    }
   ],
   "source": [
    "# 부정 statement 시험\n",
    "# !== 도 가능하지만 Not + 조건문 으로 확인가능\n",
    "album_Y =1983\n",
    "if not (album_Y == 1984):\n",
    "    print('album year is not 1984')"
   ]
  },
  {
   "cell_type": "code",
   "execution_count": 8,
   "metadata": {},
   "outputs": [
    {
     "name": "stdout",
     "output_type": "stream",
     "text": [
      "1978\n"
     ]
    }
   ],
   "source": [
    "# Write an if statement to determine if an album came out before 1980 or in the years: 1991 or 1993. If the condition is true print out the year the album came out.\n",
    "\n",
    "album_year = 1978\n",
    "if album_year <= 1980 or album_year== 1991 or album_year== 1993:\n",
    "    print (album_year)\n",
    "\n"
   ]
  },
  {
   "cell_type": "code",
   "execution_count": null,
   "metadata": {},
   "outputs": [],
   "source": []
  }
 ],
 "metadata": {
  "kernelspec": {
   "display_name": "Python 3",
   "language": "python",
   "name": "python3"
  },
  "language_info": {
   "codemirror_mode": {
    "name": "ipython",
    "version": 3
   },
   "file_extension": ".py",
   "mimetype": "text/x-python",
   "name": "python",
   "nbconvert_exporter": "python",
   "pygments_lexer": "ipython3",
   "version": "3.9.13"
  },
  "orig_nbformat": 4
 },
 "nbformat": 4,
 "nbformat_minor": 2
}
